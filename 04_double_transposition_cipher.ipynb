{
 "cells": [
  {
   "cell_type": "markdown",
   "id": "959d597b",
   "metadata": {},
   "source": [
    "## Encryption (Transposion)"
   ]
  },
  {
   "cell_type": "code",
   "execution_count": 19,
   "id": "32725df7",
   "metadata": {},
   "outputs": [],
   "source": [
    "def encrypt(plain_text, width=4):\n",
    "    # remove spaces\n",
    "    # plain_txt = plain_txt.replace(\" \", \"\")\n",
    "    length = len(plain_text)\n",
    "    cipher_text = \"\"\n",
    "\n",
    "    for k in range(width):\n",
    "        for i in range(k, length, width):\n",
    "            cipher_text += plain_text[i]\n",
    "    \n",
    "    return cipher_text"
   ]
  },
  {
   "cell_type": "markdown",
   "id": "98a21f24",
   "metadata": {},
   "source": [
    "## Decryption "
   ]
  },
  {
   "cell_type": "code",
   "execution_count": 20,
   "id": "e86232f1",
   "metadata": {},
   "outputs": [],
   "source": [
    "def decrypt(cipher_text, width=4):\n",
    "    length = len(cipher_text)\n",
    "    plain_text = [''] * length\n",
    "    idx = 0\n",
    "\n",
    "    for k in range(width):\n",
    "        for i in range(k, length, width): \n",
    "            plain_text[i] = cipher_text[idx]\n",
    "            idx += 1\n",
    "\n",
    "    return ''.join(plain_text)"
   ]
  },
  {
   "cell_type": "markdown",
   "id": "dfcaafec",
   "metadata": {},
   "source": [
    "## Double Transposition"
   ]
  },
  {
   "cell_type": "code",
   "execution_count": 21,
   "id": "4db138e8",
   "metadata": {},
   "outputs": [],
   "source": [
    "def double_encrypt(plain_text, width1=4, width2=4):\n",
    "    first_pass = encrypt(plain_text, width1)\n",
    "    second_pass = encrypt(first_pass, width2)\n",
    "    return second_pass\n",
    "\n",
    "def double_decrypt(cipher_text, width1=4, width2=4):\n",
    "    first_pass = decrypt(cipher_text, width2)\n",
    "    second_pass = decrypt(first_pass, width1)\n",
    "    return second_pass"
   ]
  },
  {
   "cell_type": "code",
   "execution_count": 22,
   "id": "e9d214ea",
   "metadata": {},
   "outputs": [
    {
     "name": "stdout",
     "output_type": "stream",
     "text": [
      "Encrypted: CnSg iuenmie n&erEeogcpn tecri\n",
      "Decrypted: Computer Science & Engineering\n"
     ]
    }
   ],
   "source": [
    "msg = \"Computer Science & Engineering\"\n",
    "cipher = double_encrypt(msg, 4, 5)\n",
    "print(\"Encrypted:\", cipher)\n",
    "\n",
    "original = double_decrypt(cipher, 4, 5)\n",
    "print(\"Decrypted:\", original)"
   ]
  },
  {
   "cell_type": "code",
   "execution_count": 23,
   "id": "806c23ad",
   "metadata": {},
   "outputs": [
    {
     "name": "stdout",
     "output_type": "stream",
     "text": [
      "\n",
      "Original Plain text:  DEPARTMENT OF COMPUTER SCIENCE AND ENGINEERING UNIVERSITY OF RAJSHAHI BANGLADESH\n",
      "Encrypted:  D E EV BEORAEERAPF NRRANA SDISJGRCC NISLTOIEGTHAMMEN YADEPNGU HENUCINOISTTENIF H\n",
      "Decrypted:  DRRJTEUI ARGON SEEARI HT ENCEYETERACGANEVA  TDUN PSNHECIBFDIAPIFE ISMNN ONSLMGOH\n",
      "Width: 2 ERROR!\n",
      "\n",
      "Original Plain text:  DEPARTMENT OF COMPUTER SCIENCE AND ENGINEERING UNIVERSITY OF RAJSHAHI BANGLADESH\n",
      "Encrypted:  DASEEGENC U EHIRNLECORNEPIT TAREMAINA YS DI PJVGRB COENAUSEITAOIFSGNTHRNMNFE H D\n",
      "Decrypted:  DGEONN  ITGIANNRCFDTRARNSTAN EIANOBAEHUEU  RLI  ERSP HPEEFCYGNEIE JMCSOSEMITHDVA\n",
      "Width: 3 ERROR!\n",
      "\n",
      "Original Plain text:  DEPARTMENT OF COMPUTER SCIENCE AND ENGINEERING UNIVERSITY OF RAJSHAHI BANGLADESH\n",
      "Encrypted:  DT OEI EEGVT HBAEMOMREANE EYRAADPEFP NNGRUR AHNEAN USCDIINSOJIGSRTCTCE NNIIFS LH\n",
      "Decrypted:  DIVAR APRH IJT FT TEEED UNUIICNS E MAYPNRESNGTN OEHONREN ACSSCILEGBMEAFGANDOREIH\n",
      "Width: 4 ERROR!\n",
      "\n",
      "Original Plain text:  DEPARTMENT OF COMPUTER SCIENCE AND ENGINEERING UNIVERSITY OF RAJSHAHI BANGLADESH\n",
      "Encrypted:  DRNFMECCNNENNRY SINDETT PRIEDGEGIS RH GEPM CU E  IR VIOAABLSAEOOTSNAENIUETFJHAAH\n",
      "Decrypted:  DMNNSEPDIHPU VAATEEHRENRITRGS M IIBESNTANCEYNTIE G EROLONIFAFCN D EGREC  ASOAUJH\n",
      "Width: 5 ERROR!\n",
      "\n",
      "Original Plain text:  DEPARTMENT OF COMPUTER SCIENCE AND ENGINEERING UNIVERSITY OF RAJSHAHI BANGLADESH\n",
      "Encrypted:  DIE SDEJNVGPERUBCG CHO  ENNAIERSCELUETNAOIRIIFEOPGTNTS HERATRMINMNAE  NFA  DYHSA\n",
      "Decrypted:  DIJRSYHNAT GOSONUTREEPLRIINS HOMIN  IDPFBNMN EUAEFVCHS NETDCREGACAIN RET EGEEA A\n",
      "Width: 6 ERROR!\n",
      "\n",
      "Original Plain text:  DEPARTMENT OF COMPUTER SCIENCE AND ENGINEERING UNIVERSITY OF RAJSHAHI BANGLADESH\n",
      "Encrypted:  DAMTAIGESEEFL EI INOE JA REUERE NTIRCN  AOENUVDMSRSHBSNTPTNOGYN ICACDFRGNE PHAHI\n",
      "Decrypted:  DTGEGNNEAERL TANDRNIAG AFBRNAAEENT   UE PNOUMST HYICRSCOMISFEP JRE EHOEVSHIIINCD\n",
      "Width: 7 ERROR!\n",
      "\n",
      "Original Plain text:  DEPARTMENT OF COMPUTER SCIENCE AND ENGINEERING UNIVERSITY OF RAJSHAHI BANGLADESH\n",
      "Encrypted:  DRTU RO EAIH NEEEAGNV TU SHCBDAIEIMNOSMORJEIAGNSER TECYTRCAEA DNPNEIFIPF SN NLGH\n",
      "Decrypted:  DERSIEECVDSIA NLRUGE NTGAUNBPI MRIOEHCEA NHFISOGJ NATERN  EDFMNOTA R YAETPCIENSH\n",
      "Width: 8 ERROR!\n",
      "\n",
      "Original Plain text:  DEPARTMENT OF COMPUTER SCIENCE AND ENGINEERING UNIVERSITY OF RAJSHAHI BANGLADESH\n",
      "Encrypted:  D NATASAUERSEEEGMIEATNIACNO AIU F YSESGH NIDTRIHN RLPNEJMCVNOGFRRENB E HPC IODTE\n",
      "Decrypted:  DITNE NIETIRAILCMG FA  HEEVOANHEEYMT ARBRFEOANDEUUP IHNRSARPGSNGTON ESCENCI S JD\n",
      "Width: 9 ERROR!\n",
      "\n",
      "Original Plain text:  DEPARTMENT OF COMPUTER SCIENCE AND ENGINEERING UNIVERSITY OF RAJSHAHI BANGLADESH\n",
      "Encrypted:  DPRMN FCMUE CEC N NIERN NVRIYO ASAIBNLDSEATETO OPTRSINEADEGNEIGUIEST FRJHH AGAEH\n",
      "Decrypted:  DRNFMECCNNENNRY SINDETT PRIEDGEGIS RH GEPM CU E  IR VIOAABLSAEOOTSNAENIUETFJHAAH\n",
      "Width: 10 ERROR!\n",
      "\n",
      "Original Plain text:  DEPARTMENT OF COMPUTER SCIENCE AND ENGINEERING UNIVERSITY OF RAJSHAHI BANGLADESH\n",
      "Encrypted:  DPRMHIA LYIE CEN EDODOERN C ASEPS ASAN FGTGTEATEIVNCA NRSINTBR MEFEIGUEONINUHRJH\n",
      "Decrypted:  DRHAIVPCNS DENCLUC NHNGGETAIO SEJB EEIE IRNOPMI GNSEUIFOR  YEAA RTTTAESENNADHRMF\n",
      "Width: 11 ERROR!\n",
      "\n",
      "Original Plain text:  DEPARTMENT OF COMPUTER SCIENCE AND ENGINEERING UNIVERSITY OF RAJSHAHI BANGLADESH\n",
      "Encrypted:  DRIIEIVNCTPOEPJGNTBR AGSE RHUEONIM T RCMHIA LNENEANEN EDOYUFRAS C ASEDIHESTAN FG\n",
      "Decrypted:  DA  NENIJDTU I NHTIN ARFHGE NEOEENYRRAEVSANPT  MRSLRCDEMGOBFAICEUPH TNCGISIAEOES\n",
      "Width: 12 ERROR!\n",
      "\n",
      "Original Plain text:  DEPARTMENT OF COMPUTER SCIENCE AND ENGINEERING UNIVERSITY OF RAJSHAHI BANGLADESH\n",
      "Encrypted:  DEANMUTVFSON SERSSEHEBNGEYETEPIT NIORCTDUN  JIAC AN APIFERRGEN E IMGOHRACHNI ADL\n",
      "Decrypted:  DNNJTCSN PRRRDENG EGPR HOEAHUA UAFANAEF EDENEYMEHTCIISTGE MIV O SISCRLB EITOIANN\n",
      "Width: 14 ERROR!\n",
      "\n",
      "Original Plain text:  DEPARTMENT OF COMPUTER SCIENCE AND ENGINEERING UNIVERSITY OF RAJSHAHI BANGLADESH\n",
      "Encrypted:  DEANMUI ARGON SERSSEHT ENCEYETEPIT NEVA  TDUN  JIACIBFDIAPIFERRGEN ONSLMGOHRACHN\n",
      "Decrypted:  DTNNIJNGPBOEEPHHREEEOREIGSNACE AUU ATCM  IAS E GC EALNTDRSAFEDM  ISOIFHRVINTRNNY\n",
      "Width: 15 ERROR!\n"
     ]
    }
   ],
   "source": [
    "w = [2, 3, 4, 5, 6, 7, 8, 9, 10, 11, 12, 14, 15]\n",
    "\n",
    "for width in w: \n",
    "        \n",
    "    plain_text = \"DEPARTMENT OF COMPUTER SCIENCE AND ENGINEERING UNIVERSITY OF RAJSHAHI BANGLADESH\"\n",
    "\n",
    "    print(\"\\nOriginal Plain text: \", plain_text)\n",
    "    encrypted = double_decrypt(plain_text, width)\n",
    "    print(\"Encrypted: \", encrypted)\n",
    "\n",
    "    decrypted = double_decrypt(encrypted, width)\n",
    "    print(\"Decrypted: \", decrypted)\n",
    "\n",
    "    if plain_text == decrypted:\n",
    "        print(f\"Width:{width} OK!\")\n",
    "    else:\n",
    "        print(f\"Width: {width} ERROR!\")"
   ]
  }
 ],
 "metadata": {
  "kernelspec": {
   "display_name": "Python 3",
   "language": "python",
   "name": "python3"
  },
  "language_info": {
   "codemirror_mode": {
    "name": "ipython",
    "version": 3
   },
   "file_extension": ".py",
   "mimetype": "text/x-python",
   "name": "python",
   "nbconvert_exporter": "python",
   "pygments_lexer": "ipython3",
   "version": "3.12.6"
  }
 },
 "nbformat": 4,
 "nbformat_minor": 5
}
