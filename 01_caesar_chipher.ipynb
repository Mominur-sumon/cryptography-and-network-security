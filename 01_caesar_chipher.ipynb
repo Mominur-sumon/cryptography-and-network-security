{
 "cells": [
  {
   "cell_type": "markdown",
   "id": "98a94192",
   "metadata": {},
   "source": [
    "##### Suppose you are given a line of text as a plaintext, find out the corresponding Caesar Cipher. Then perform the reverse operation to get original plaintext."
   ]
  },
  {
   "cell_type": "markdown",
   "id": "553b828c",
   "metadata": {},
   "source": [
    "### Encryption Function"
   ]
  },
  {
   "cell_type": "code",
   "execution_count": 1,
   "id": "c8e153e5",
   "metadata": {},
   "outputs": [],
   "source": [
    "def encrypt(plain_text):\n",
    "    cipher_text = \"\"\n",
    "\n",
    "    for ch in plain_text:\n",
    "        if ch.isalpha():\n",
    "            ch = chr(ord(ch) + 3)\n",
    "            if ch.isalpha() != True:\n",
    "                ch = chr(ord(ch) - 26)\n",
    "        cipher_text += ch\n",
    "    \n",
    "    return cipher_text"
   ]
  },
  {
   "cell_type": "markdown",
   "id": "7124a9f1",
   "metadata": {},
   "source": [
    "### Decryption Function"
   ]
  },
  {
   "cell_type": "code",
   "execution_count": 2,
   "id": "d684a235",
   "metadata": {},
   "outputs": [],
   "source": [
    "def decrypt(cipher_text):\n",
    "    plain_text = \"\"\n",
    "\n",
    "    for ch in cipher_text:\n",
    "        if ch.isalpha():\n",
    "            ch = chr(ord(ch) - 3)\n",
    "            if ch.isalpha() != True:\n",
    "                ch = chr(ord(ch) + 26)\n",
    "        plain_text += ch\n",
    "    \n",
    "    return plain_text"
   ]
  },
  {
   "cell_type": "markdown",
   "id": "15e09bd3",
   "metadata": {},
   "source": [
    "### Evaluation "
   ]
  },
  {
   "cell_type": "code",
   "execution_count": 4,
   "id": "c3229cbb",
   "metadata": {},
   "outputs": [
    {
     "name": "stdout",
     "output_type": "stream",
     "text": [
      "Plain Text: mominur rahman\n",
      "Encrypted Text: prplqxu udkpdq\n",
      "Decrypted Text: mominur rahman\n"
     ]
    }
   ],
   "source": [
    "plain_text = \"mominur rahman\"\n",
    "cipher_text = encrypt(plain_text)\n",
    "decrypted_text = decrypt(cipher_text)\n",
    "\n",
    "print(f\"Plain Text: {plain_text}\")\n",
    "print(f\"Encrypted Text: {cipher_text}\")\n",
    "print(f\"Decrypted Text: {decrypted_text}\")"
   ]
  }
 ],
 "metadata": {
  "kernelspec": {
   "display_name": "Python 3",
   "language": "python",
   "name": "python3"
  },
  "language_info": {
   "codemirror_mode": {
    "name": "ipython",
    "version": 3
   },
   "file_extension": ".py",
   "mimetype": "text/x-python",
   "name": "python",
   "nbconvert_exporter": "python",
   "pygments_lexer": "ipython3",
   "version": "3.12.6"
  }
 },
 "nbformat": 4,
 "nbformat_minor": 5
}
