{
 "cells": [
  {
   "cell_type": "markdown",
   "id": "5999e885",
   "metadata": {},
   "source": [
    "##### Suppose you are given a line of text as a plaintext, find out the corresponding Transposition Cipher. Take width as input. Then perform the reverse operation to get original plaintext."
   ]
  },
  {
   "cell_type": "markdown",
   "id": "9b6ea869",
   "metadata": {},
   "source": [
    "### Function for Encryption"
   ]
  },
  {
   "cell_type": "code",
   "execution_count": 1,
   "id": "2536b241",
   "metadata": {},
   "outputs": [],
   "source": [
    "def encrypt(plain_text, width = 4):\n",
    "    length = len(plain_text)\n",
    "    cipher_text = \"\"\n",
    "\n",
    "    for k in range(width):\n",
    "        for i in range(k, length, width):\n",
    "            cipher_text += plain_text[i]\n",
    "    \n",
    "    return cipher_text"
   ]
  },
  {
   "cell_type": "markdown",
   "id": "fa3390e8",
   "metadata": {},
   "source": [
    "### Function for Decryption"
   ]
  },
  {
   "cell_type": "code",
   "execution_count": 2,
   "id": "d441e837",
   "metadata": {},
   "outputs": [],
   "source": [
    "def decrypt(cipher_text, width = 4):\n",
    "    length = len(cipher_text)\n",
    "    plain_text = [''] * length\n",
    "    idx = 0\n",
    "\n",
    "    for k in range(width):\n",
    "        for i in range(k, length, width): \n",
    "            plain_text[i] = cipher_text[idx]\n",
    "            idx += 1\n",
    "\n",
    "    return ''.join(plain_text)"
   ]
  },
  {
   "cell_type": "markdown",
   "id": "fbf44f13",
   "metadata": {},
   "source": [
    "### Performing Encryption & Decryption using Transposition Cipher"
   ]
  },
  {
   "cell_type": "code",
   "execution_count": 4,
   "id": "0aa5ab67",
   "metadata": {},
   "outputs": [
    {
     "name": "stdout",
     "output_type": "stream",
     "text": [
      "Plain Text: Computer Science & Engineering\n",
      "Encrypted Text: CpeSee geiourcn Eienmt ic&nnrg\n",
      "Decrypted Text: Computer Science & Engineering\n"
     ]
    }
   ],
   "source": [
    "plain_text = \"Computer Science & Engineering\"\n",
    "width = 3\n",
    "cipher_text = encrypt(plain_text, width)\n",
    "decrypted_text = decrypt(cipher_text, width)\n",
    "\n",
    "print(f\"Plain Text: {plain_text}\")\n",
    "print(f\"Encrypted Text: {cipher_text}\")\n",
    "print(f\"Decrypted Text: {decrypted_text}\")"
   ]
  }
 ],
 "metadata": {
  "kernelspec": {
   "display_name": "Python 3",
   "language": "python",
   "name": "python3"
  },
  "language_info": {
   "codemirror_mode": {
    "name": "ipython",
    "version": 3
   },
   "file_extension": ".py",
   "mimetype": "text/x-python",
   "name": "python",
   "nbconvert_exporter": "python",
   "pygments_lexer": "ipython3",
   "version": "3.12.6"
  }
 },
 "nbformat": 4,
 "nbformat_minor": 5
}
